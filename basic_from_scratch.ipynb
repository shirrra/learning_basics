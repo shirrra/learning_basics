{
 "cells": [
  {
   "cell_type": "code",
   "execution_count": 2,
   "metadata": {
    "collapsed": true
   },
   "outputs": [],
   "source": [
    "import tensorflow as tf\n",
    "import numpy as np"
   ]
  },
  {
   "cell_type": "code",
   "execution_count": 419,
   "metadata": {
    "collapsed": false
   },
   "outputs": [],
   "source": [
    "# simulate data\n",
    "h = w = 11\n",
    "hw = h*w\n",
    "N_train = 1000\n",
    "N_test = 100\n",
    "N_tot = N_train + N_test\n",
    "real_v = np.random.randn(hw, 1)\n",
    "real_b = np.random.randn(1)\n",
    "data = np.random.randn(N_tot, h, w, 1)\n",
    "data_vec = data.reshape((N_tot, hw))\n",
    "labels = np.sign(np.dot(data_vec, real_v) + real_b)\n",
    "hot_inds = ((labels+1)/2).astype(int)\n",
    "labels = np.zeros([N_tot, 2])\n",
    "for i in range(N_tot) :\n",
    "    labels[i,hot_inds[i][0]] = 1\n",
    "train_data_vec = data_vec[range(N_train), :]\n",
    "train_labels = labels[range(N_train), :]\n",
    "test_data_vec = data_vec[N_train + np.arange(N_test), :]\n",
    "test_labels = labels[N_train + np.arange(N_test), :]"
   ]
  },
  {
   "cell_type": "code",
   "execution_count": 420,
   "metadata": {
    "collapsed": false
   },
   "outputs": [],
   "source": [
    "# build network\n",
    "x = tf.placeholder(tf.float32, [None, hw])\n",
    "y_true = tf.placeholder(tf.float32, [None, 2])\n",
    "y_true_cls = tf.argmax(y_true, dimension=1)\n",
    "w1 = tf.Variable(tf.truncated_normal([hw,1], stddev = .05))\n",
    "b1 = tf.Variable(tf.constant(.05, shape=[1]))\n",
    "w2 = tf.Variable(tf.truncated_normal([2], stddev = .05))\n",
    "b2 = tf.Variable(tf.constant(.05, shape=[2]))\n",
    "out1 = tf.matmul(x, w1) + b1\n",
    "logits = out1*w2 + b2\n",
    "y_pred = tf.nn.softmax(logits)\n",
    "y_pred_cls = tf.argmax(y_pred, dimension=1)\n",
    "cost = tf.reduce_mean(\n",
    "    tf.nn.softmax_cross_entropy_with_logits(logits=logits, labels=y_true))\n",
    "optimizer = tf.train.GradientDescentOptimizer(learning_rate=.5).minimize(cost)"
   ]
  },
  {
   "cell_type": "code",
   "execution_count": 421,
   "metadata": {
    "collapsed": true
   },
   "outputs": [],
   "source": [
    "# performance measure\n",
    "correct_pred = tf.equal(y_true_cls, y_pred_cls)\n",
    "accuracy = tf.reduce_mean(tf.cast(correct_pred, tf.float32))"
   ]
  },
  {
   "cell_type": "code",
   "execution_count": 434,
   "metadata": {
    "collapsed": true
   },
   "outputs": [],
   "source": [
    "# learn\n",
    "\n",
    "# initialize\n",
    "sess.close()\n",
    "sess = tf.Session()\n",
    "sess.run(tf.global_variables_initializer())"
   ]
  },
  {
   "cell_type": "code",
   "execution_count": 435,
   "metadata": {
    "collapsed": false
   },
   "outputs": [
    {
     "name": "stdout",
     "output_type": "stream",
     "text": [
      "initial accuracy on train set: 49.9%\n",
      "initial accuracy on test set: 56.0%\n"
     ]
    }
   ],
   "source": [
    "feed_dict_train = {x: train_data_vec,\n",
    "                   y_true: train_labels}\n",
    "acc = sess.run(accuracy, feed_dict_train)\n",
    "print(\"initial accuracy on train set: {0:.1%}\".format(acc))\n",
    "feed_dict_test = {x: test_data_vec,\n",
    "                   y_true: test_labels}\n",
    "acc = sess.run(accuracy, feed_dict_test)\n",
    "print(\"initial accuracy on test set: {0:.1%}\".format(acc))"
   ]
  },
  {
   "cell_type": "code",
   "execution_count": 436,
   "metadata": {
    "collapsed": false
   },
   "outputs": [],
   "source": [
    "# train function\n",
    "batch_size = 100\n",
    "def optimize(num_iterations, first_ind=0):\n",
    "    permuted_inds = np.random.permutation(np.arange(N_train))\n",
    "    for i in range(num_iterations):\n",
    "        batch_inds = permuted_inds[(first_ind + np.arange(batch_size)) % N_train] \n",
    "        first_ind += batch_size\n",
    "        x_batch = train_data_vec[batch_inds, :]\n",
    "        y_true_batch = train_labels[batch_inds, :]\n",
    "        feed_dict_train = {x: x_batch,\n",
    "                          y_true: y_true_batch}\n",
    "        sess.run(optimizer, feed_dict=feed_dict_train)\n",
    "    feed_dict_train = {x: train_data_vec,\n",
    "                       y_true: train_labels}\n",
    "    acc = sess.run(accuracy, feed_dict_train)\n",
    "    print(\"initial accuracy on train set: {0:.1%}\".format(acc))\n",
    "    feed_dict_test = {x: test_data_vec,\n",
    "                      y_true: test_labels}\n",
    "    acc = sess.run(accuracy, feed_dict_test)\n",
    "    print(\"initial accuracy on test set: {0:.1%}\".format(acc))        "
   ]
  },
  {
   "cell_type": "code",
   "execution_count": 437,
   "metadata": {
    "collapsed": false
   },
   "outputs": [
    {
     "name": "stdout",
     "output_type": "stream",
     "text": [
      "initial accuracy on train set: 50.1%\n",
      "initial accuracy on test set: 58.0%\n"
     ]
    }
   ],
   "source": [
    "optimize(num_iterations=1)"
   ]
  },
  {
   "cell_type": "code",
   "execution_count": 438,
   "metadata": {
    "collapsed": false
   },
   "outputs": [
    {
     "name": "stdout",
     "output_type": "stream",
     "text": [
      "initial accuracy on train set: 60.9%\n",
      "initial accuracy on test set: 58.0%\n"
     ]
    }
   ],
   "source": [
    "optimize(num_iterations=10)"
   ]
  },
  {
   "cell_type": "code",
   "execution_count": 442,
   "metadata": {
    "collapsed": false
   },
   "outputs": [
    {
     "name": "stdout",
     "output_type": "stream",
     "text": [
      "initial accuracy on train set: 100.0%\n",
      "initial accuracy on test set: 93.0%\n"
     ]
    }
   ],
   "source": [
    "optimize(num_iterations=100)"
   ]
  },
  {
   "cell_type": "code",
   "execution_count": 443,
   "metadata": {
    "collapsed": false
   },
   "outputs": [
    {
     "data": {
      "text/plain": [
       "0.98684339073939464"
      ]
     },
     "execution_count": 443,
     "metadata": {},
     "output_type": "execute_result"
    }
   ],
   "source": [
    "learned_v = sess.run(w1)\n",
    "abs(np.sum(real_v*learned_v)/np.sqrt(np.sum(real_v*real_v))/np.sqrt(np.sum(learned_v*learned_v)))"
   ]
  },
  {
   "cell_type": "code",
   "execution_count": 444,
   "metadata": {
    "collapsed": false
   },
   "outputs": [
    {
     "data": {
      "text/plain": [
       "0.076511045767867561"
      ]
     },
     "execution_count": 444,
     "metadata": {},
     "output_type": "execute_result"
    }
   ],
   "source": [
    "m = 0\n",
    "for i in range(100):\n",
    "    rand_v = np.random.randn(hw, 1)\n",
    "    m+=abs(np.sum(real_v*rand_v)/np.sqrt(np.sum(real_v*real_v))/np.sqrt(np.sum(rand_v*rand_v)))\n",
    "m/100"
   ]
  }
 ],
 "metadata": {
  "anaconda-cloud": {},
  "kernelspec": {
   "display_name": "Python [conda root]",
   "language": "python",
   "name": "conda-root-py"
  },
  "language_info": {
   "codemirror_mode": {
    "name": "ipython",
    "version": 3
   },
   "file_extension": ".py",
   "mimetype": "text/x-python",
   "name": "python",
   "nbconvert_exporter": "python",
   "pygments_lexer": "ipython3",
   "version": "3.5.2"
  }
 },
 "nbformat": 4,
 "nbformat_minor": 1
}
